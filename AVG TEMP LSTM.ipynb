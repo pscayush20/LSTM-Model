{
 "cells": [
  {
   "cell_type": "code",
   "execution_count": 1,
   "id": "5e1b2795",
   "metadata": {},
   "outputs": [],
   "source": [
    "import pandas as pd\n",
    "import numpy as np\n",
    "import matplotlib.pyplot as plt"
   ]
  },
  {
   "cell_type": "code",
   "execution_count": 2,
   "id": "f46e05d6",
   "metadata": {},
   "outputs": [
    {
     "name": "stdout",
     "output_type": "stream",
     "text": [
      "Shape of data (1821, 5)\n"
     ]
    }
   ],
   "source": [
    "df=pd.read_excel(r'C:\\Users\\Dell\\Desktop\\Jupyter Notebook\\Book1.xlsx',index_col='DATE',parse_dates=True)\n",
    "df=df.dropna()\n",
    "print('Shape of data',df.shape)"
   ]
  },
  {
   "cell_type": "code",
   "execution_count": 3,
   "id": "3cb81415",
   "metadata": {},
   "outputs": [],
   "source": [
    "df['AvgTemp'] = df['AvgTemp'].astype(int)"
   ]
  },
  {
   "cell_type": "code",
   "execution_count": 4,
   "id": "226560f3",
   "metadata": {},
   "outputs": [
    {
     "data": {
      "text/html": [
       "<div>\n",
       "<style scoped>\n",
       "    .dataframe tbody tr th:only-of-type {\n",
       "        vertical-align: middle;\n",
       "    }\n",
       "\n",
       "    .dataframe tbody tr th {\n",
       "        vertical-align: top;\n",
       "    }\n",
       "\n",
       "    .dataframe thead th {\n",
       "        text-align: right;\n",
       "    }\n",
       "</style>\n",
       "<table border=\"1\" class=\"dataframe\">\n",
       "  <thead>\n",
       "    <tr style=\"text-align: right;\">\n",
       "      <th></th>\n",
       "      <th>MinTemp</th>\n",
       "      <th>MaxTemp</th>\n",
       "      <th>AvgTemp</th>\n",
       "      <th>Sunrise</th>\n",
       "      <th>Sunset</th>\n",
       "    </tr>\n",
       "    <tr>\n",
       "      <th>DATE</th>\n",
       "      <th></th>\n",
       "      <th></th>\n",
       "      <th></th>\n",
       "      <th></th>\n",
       "      <th></th>\n",
       "    </tr>\n",
       "  </thead>\n",
       "  <tbody>\n",
       "    <tr>\n",
       "      <th>2014-01-01</th>\n",
       "      <td>33.0</td>\n",
       "      <td>46.0</td>\n",
       "      <td>40</td>\n",
       "      <td>657</td>\n",
       "      <td>1756</td>\n",
       "    </tr>\n",
       "    <tr>\n",
       "      <th>2014-02-01</th>\n",
       "      <td>35.0</td>\n",
       "      <td>50.0</td>\n",
       "      <td>43</td>\n",
       "      <td>657</td>\n",
       "      <td>1756</td>\n",
       "    </tr>\n",
       "    <tr>\n",
       "      <th>2014-03-01</th>\n",
       "      <td>36.0</td>\n",
       "      <td>45.0</td>\n",
       "      <td>41</td>\n",
       "      <td>657</td>\n",
       "      <td>1757</td>\n",
       "    </tr>\n",
       "    <tr>\n",
       "      <th>2014-04-01</th>\n",
       "      <td>32.0</td>\n",
       "      <td>41.0</td>\n",
       "      <td>37</td>\n",
       "      <td>658</td>\n",
       "      <td>1757</td>\n",
       "    </tr>\n",
       "    <tr>\n",
       "      <th>2014-05-01</th>\n",
       "      <td>24.0</td>\n",
       "      <td>38.0</td>\n",
       "      <td>31</td>\n",
       "      <td>658</td>\n",
       "      <td>1758</td>\n",
       "    </tr>\n",
       "    <tr>\n",
       "      <th>...</th>\n",
       "      <td>...</td>\n",
       "      <td>...</td>\n",
       "      <td>...</td>\n",
       "      <td>...</td>\n",
       "      <td>...</td>\n",
       "    </tr>\n",
       "    <tr>\n",
       "      <th>2018-12-26</th>\n",
       "      <td>35.0</td>\n",
       "      <td>45.0</td>\n",
       "      <td>40</td>\n",
       "      <td>654</td>\n",
       "      <td>1752</td>\n",
       "    </tr>\n",
       "    <tr>\n",
       "      <th>2018-12-27</th>\n",
       "      <td>33.0</td>\n",
       "      <td>44.0</td>\n",
       "      <td>39</td>\n",
       "      <td>655</td>\n",
       "      <td>1752</td>\n",
       "    </tr>\n",
       "    <tr>\n",
       "      <th>2018-12-28</th>\n",
       "      <td>33.0</td>\n",
       "      <td>47.0</td>\n",
       "      <td>40</td>\n",
       "      <td>655</td>\n",
       "      <td>1753</td>\n",
       "    </tr>\n",
       "    <tr>\n",
       "      <th>2018-12-29</th>\n",
       "      <td>36.0</td>\n",
       "      <td>47.0</td>\n",
       "      <td>42</td>\n",
       "      <td>655</td>\n",
       "      <td>1753</td>\n",
       "    </tr>\n",
       "    <tr>\n",
       "      <th>2018-12-30</th>\n",
       "      <td>39.0</td>\n",
       "      <td>52.0</td>\n",
       "      <td>46</td>\n",
       "      <td>656</td>\n",
       "      <td>1754</td>\n",
       "    </tr>\n",
       "  </tbody>\n",
       "</table>\n",
       "<p>1821 rows × 5 columns</p>\n",
       "</div>"
      ],
      "text/plain": [
       "            MinTemp  MaxTemp  AvgTemp  Sunrise  Sunset\n",
       "DATE                                                  \n",
       "2014-01-01     33.0     46.0       40      657    1756\n",
       "2014-02-01     35.0     50.0       43      657    1756\n",
       "2014-03-01     36.0     45.0       41      657    1757\n",
       "2014-04-01     32.0     41.0       37      658    1757\n",
       "2014-05-01     24.0     38.0       31      658    1758\n",
       "...             ...      ...      ...      ...     ...\n",
       "2018-12-26     35.0     45.0       40      654    1752\n",
       "2018-12-27     33.0     44.0       39      655    1752\n",
       "2018-12-28     33.0     47.0       40      655    1753\n",
       "2018-12-29     36.0     47.0       42      655    1753\n",
       "2018-12-30     39.0     52.0       46      656    1754\n",
       "\n",
       "[1821 rows x 5 columns]"
      ]
     },
     "execution_count": 4,
     "metadata": {},
     "output_type": "execute_result"
    }
   ],
   "source": [
    "df"
   ]
  },
  {
   "cell_type": "code",
   "execution_count": 5,
   "id": "00be443f",
   "metadata": {},
   "outputs": [
    {
     "data": {
      "text/plain": [
       "Text(0, 0.5, 'Average Temperature')"
      ]
     },
     "execution_count": 5,
     "metadata": {},
     "output_type": "execute_result"
    },
    {
     "data": {
      "image/png": "[encoded data removed]",
      "text/plain": [
       "<Figure size 864x360 with 1 Axes>"
      ]
     },
     "metadata": {
      "needs_background": "light"
     },
     "output_type": "display_data"
    }
   ],
   "source": [
    "df1=df['AvgTemp'].plot(figsize=(12,5))\n",
    "df1.set_xlabel(\"Date\")\n",
    "df1.set_ylabel(\"Average Temperature\")"
   ]
  },
  {
   "cell_type": "code",
   "execution_count": 6,
   "id": "4b2d1b50",
   "metadata": {},
   "outputs": [
    {
     "data": {
      "text/plain": [
       "array([[40],\n",
       "       [43],\n",
       "       [41],\n",
       "       ...,\n",
       "       [40],\n",
       "       [42],\n",
       "       [46]])"
      ]
     },
     "execution_count": 6,
     "metadata": {},
     "output_type": "execute_result"
    }
   ],
   "source": [
    "train_set=df.iloc[:,2:3].values\n",
    "train_set"
   ]
  },
  {
   "cell_type": "code",
   "execution_count": 7,
   "id": "64c56c33",
   "metadata": {},
   "outputs": [
    {
     "data": {
      "text/plain": [
       "array([[0.34615385],\n",
       "       [0.46153846],\n",
       "       [0.38461538],\n",
       "       ...,\n",
       "       [0.34615385],\n",
       "       [0.42307692],\n",
       "       [0.57692308]])"
      ]
     },
     "execution_count": 7,
     "metadata": {},
     "output_type": "execute_result"
    }
   ],
   "source": [
    "from sklearn.preprocessing import MinMaxScaler\n",
    "scaler = MinMaxScaler()\n",
    "scaled_train=scaler.fit_transform(train_set)\n",
    "scaled_train"
   ]
  },
  {
   "cell_type": "code",
   "execution_count": 8,
   "id": "91291680",
   "metadata": {},
   "outputs": [],
   "source": [
    "from keras.preprocessing.sequence import TimeseriesGenerator"
   ]
  },
  {
   "cell_type": "code",
   "execution_count": 9,
   "id": "b2f31fc3",
   "metadata": {},
   "outputs": [
    {
     "data": {
      "text/plain": [
       "1821"
      ]
     },
     "execution_count": 9,
     "metadata": {},
     "output_type": "execute_result"
    }
   ],
   "source": [
    "len(scaled_train)"
   ]
  },
  {
   "cell_type": "code",
   "execution_count": 10,
   "id": "0d3a4bc4",
   "metadata": {},
   "outputs": [],
   "source": [
    "X_train=scaled_train[0:1792]\n",
    "y_train=scaled_train[1:1793]"
   ]
  },
  {
   "cell_type": "code",
   "execution_count": 11,
   "id": "715dd16b",
   "metadata": {},
   "outputs": [
    {
     "data": {
      "text/plain": [
       "array([[[0.34615385]],\n",
       "\n",
       "       [[0.46153846]],\n",
       "\n",
       "       [[0.38461538]],\n",
       "\n",
       "       ...,\n",
       "\n",
       "       [[0.65384615]],\n",
       "\n",
       "       [[0.53846154]],\n",
       "\n",
       "       [[0.5       ]]])"
      ]
     },
     "execution_count": 11,
     "metadata": {},
     "output_type": "execute_result"
    }
   ],
   "source": [
    "X_train=np.reshape(X_train,(1792,1,1))\n",
    "X_train"
   ]
  },
  {
   "cell_type": "code",
   "execution_count": 12,
   "id": "d5625203",
   "metadata": {},
   "outputs": [],
   "source": [
    "from keras.models import Sequential\n",
    "from keras.layers import Dense\n",
    "from keras.layers import LSTM"
   ]
  },
  {
   "cell_type": "code",
   "execution_count": 13,
   "id": "e53d74d4",
   "metadata": {},
   "outputs": [],
   "source": [
    "model = Sequential()\n",
    "model.add(LSTM(4, activation='sigmoid', input_shape=(None,1)))\n",
    "model.add(Dense(1))\n",
    "model.compile(optimizer='adam', loss='mse')"
   ]
  },
  {
   "cell_type": "code",
   "execution_count": 14,
   "id": "368abff0",
   "metadata": {
    "scrolled": false
   },
   "outputs": [
    {
     "name": "stdout",
     "output_type": "stream",
     "text": [
      "Model: \"sequential\"\n",
      "_________________________________________________________________\n",
      " Layer (type)                Output Shape              Param #   \n",
      "=================================================================\n",
      " lstm (LSTM)                 (None, 4)                 96        \n",
      "                                                                 \n",
      " dense (Dense)               (None, 1)                 5         \n",
      "                                                                 \n",
      "=================================================================\n",
      "Total params: 101\n",
      "Trainable params: 101\n",
      "Non-trainable params: 0\n",
      "_________________________________________________________________\n"
     ]
    }
   ],
   "source": [
    "model.summary()"
   ]
  },
  {
   "cell_type": "code",
   "execution_count": 15,
   "id": "743b72a9",
   "metadata": {},
   "outputs": [
    {
     "name": "stdout",
     "output_type": "stream",
     "text": [
      "Epoch 1/100\n",
      "90/90 [==============================] - 2s 2ms/step - loss: 1.6374\n",
      "Epoch 2/100\n",
      "90/90 [==============================] - 0s 2ms/step - loss: 1.1311\n",
      "Epoch 3/100\n",
      "90/90 [==============================] - 0s 2ms/step - loss: 0.7861\n",
      "Epoch 4/100\n",
      "90/90 [==============================] - 0s 2ms/step - loss: 0.5482\n",
      "Epoch 5/100\n",
      "90/90 [==============================] - 0s 2ms/step - loss: 0.3827\n",
      "Epoch 6/100\n",
      "90/90 [==============================] - 0s 2ms/step - loss: 0.2670\n",
      "Epoch 7/100\n",
      "90/90 [==============================] - 0s 2ms/step - loss: 0.1864\n",
      "Epoch 8/100\n",
      "90/90 [==============================] - 0s 2ms/step - loss: 0.1307\n",
      "Epoch 9/100\n",
      "90/90 [==============================] - 0s 2ms/step - loss: 0.0925\n",
      "Epoch 10/100\n",
      "90/90 [==============================] - 0s 2ms/step - loss: 0.0670\n",
      "Epoch 11/100\n",
      "90/90 [==============================] - 0s 2ms/step - loss: 0.0503\n",
      "Epoch 12/100\n",
      "90/90 [==============================] - 0s 2ms/step - loss: 0.0396\n",
      "Epoch 13/100\n",
      "90/90 [==============================] - 0s 2ms/step - loss: 0.0330\n",
      "Epoch 14/100\n",
      "90/90 [==============================] - 0s 1ms/step - loss: 0.0290\n",
      "Epoch 15/100\n",
      "90/90 [==============================] - 0s 2ms/step - loss: 0.0267\n",
      "Epoch 16/100\n",
      "90/90 [==============================] - 0s 2ms/step - loss: 0.0254\n",
      "Epoch 17/100\n",
      "90/90 [==============================] - 0s 2ms/step - loss: 0.0247\n",
      "Epoch 18/100\n",
      "90/90 [==============================] - 0s 2ms/step - loss: 0.0244\n",
      "Epoch 19/100\n",
      "90/90 [==============================] - 0s 2ms/step - loss: 0.0242\n",
      "Epoch 20/100\n",
      "90/90 [==============================] - 0s 2ms/step - loss: 0.0241\n",
      "Epoch 21/100\n",
      "90/90 [==============================] - 0s 2ms/step - loss: 0.0240\n",
      "Epoch 22/100\n",
      "90/90 [==============================] - 0s 2ms/step - loss: 0.0240\n",
      "Epoch 23/100\n",
      "90/90 [==============================] - 0s 2ms/step - loss: 0.0240\n",
      "Epoch 24/100\n",
      "90/90 [==============================] - 0s 2ms/step - loss: 0.0240\n",
      "Epoch 25/100\n",
      "90/90 [==============================] - 0s 2ms/step - loss: 0.0239\n",
      "Epoch 26/100\n",
      "90/90 [==============================] - 0s 2ms/step - loss: 0.0239\n",
      "Epoch 27/100\n",
      "90/90 [==============================] - 0s 2ms/step - loss: 0.0239\n",
      "Epoch 28/100\n",
      "90/90 [==============================] - 0s 2ms/step - loss: 0.0239\n",
      "Epoch 29/100\n",
      "90/90 [==============================] - 0s 2ms/step - loss: 0.0238\n",
      "Epoch 30/100\n",
      "90/90 [==============================] - 0s 2ms/step - loss: 0.0238\n",
      "Epoch 31/100\n",
      "90/90 [==============================] - 0s 2ms/step - loss: 0.0238\n",
      "Epoch 32/100\n",
      "90/90 [==============================] - 0s 2ms/step - loss: 0.0238\n",
      "Epoch 33/100\n",
      "90/90 [==============================] - 0s 2ms/step - loss: 0.0237\n",
      "Epoch 34/100\n",
      "90/90 [==============================] - 0s 2ms/step - loss: 0.0237\n",
      "Epoch 35/100\n",
      "90/90 [==============================] - 0s 2ms/step - loss: 0.0237\n",
      "Epoch 36/100\n",
      "90/90 [==============================] - 0s 2ms/step - loss: 0.0236\n",
      "Epoch 37/100\n",
      "90/90 [==============================] - 0s 2ms/step - loss: 0.0236\n",
      "Epoch 38/100\n",
      "90/90 [==============================] - 0s 2ms/step - loss: 0.0235\n",
      "Epoch 39/100\n",
      "90/90 [==============================] - 0s 2ms/step - loss: 0.0235\n",
      "Epoch 40/100\n",
      "90/90 [==============================] - 0s 2ms/step - loss: 0.0234\n",
      "Epoch 41/100\n",
      "90/90 [==============================] - 0s 2ms/step - loss: 0.0234\n",
      "Epoch 42/100\n",
      "90/90 [==============================] - 0s 2ms/step - loss: 0.0233\n",
      "Epoch 43/100\n",
      "90/90 [==============================] - 0s 2ms/step - loss: 0.0233\n",
      "Epoch 44/100\n",
      "90/90 [==============================] - 0s 2ms/step - loss: 0.0232\n",
      "Epoch 45/100\n",
      "90/90 [==============================] - 0s 2ms/step - loss: 0.0232\n",
      "Epoch 46/100\n",
      "90/90 [==============================] - 0s 2ms/step - loss: 0.0231\n",
      "Epoch 47/100\n",
      "90/90 [==============================] - 0s 2ms/step - loss: 0.0230\n",
      "Epoch 48/100\n",
      "90/90 [==============================] - 0s 2ms/step - loss: 0.0229\n",
      "Epoch 49/100\n",
      "90/90 [==============================] - 0s 2ms/step - loss: 0.0228\n",
      "Epoch 50/100\n",
      "90/90 [==============================] - 0s 2ms/step - loss: 0.0228\n",
      "Epoch 51/100\n",
      "90/90 [==============================] - 0s 2ms/step - loss: 0.0227\n",
      "Epoch 52/100\n",
      "90/90 [==============================] - 0s 2ms/step - loss: 0.0226\n",
      "Epoch 53/100\n",
      "90/90 [==============================] - 0s 2ms/step - loss: 0.0224\n",
      "Epoch 54/100\n",
      "90/90 [==============================] - 0s 2ms/step - loss: 0.0223\n",
      "Epoch 55/100\n",
      "90/90 [==============================] - 0s 2ms/step - loss: 0.0222\n",
      "Epoch 56/100\n",
      "90/90 [==============================] - 0s 2ms/step - loss: 0.0221\n",
      "Epoch 57/100\n",
      "90/90 [==============================] - 0s 2ms/step - loss: 0.0219\n",
      "Epoch 58/100\n",
      "90/90 [==============================] - 0s 2ms/step - loss: 0.0218\n",
      "Epoch 59/100\n",
      "90/90 [==============================] - 0s 2ms/step - loss: 0.0216\n",
      "Epoch 60/100\n",
      "90/90 [==============================] - 0s 2ms/step - loss: 0.0214\n",
      "Epoch 61/100\n",
      "90/90 [==============================] - 0s 2ms/step - loss: 0.0213\n",
      "Epoch 62/100\n",
      "90/90 [==============================] - 0s 2ms/step - loss: 0.0211\n",
      "Epoch 63/100\n",
      "90/90 [==============================] - 0s 2ms/step - loss: 0.0208\n",
      "Epoch 64/100\n",
      "90/90 [==============================] - 0s 2ms/step - loss: 0.0206\n",
      "Epoch 65/100\n",
      "90/90 [==============================] - 0s 2ms/step - loss: 0.0204\n",
      "Epoch 66/100\n",
      "90/90 [==============================] - 0s 2ms/step - loss: 0.0201\n",
      "Epoch 67/100\n",
      "90/90 [==============================] - 0s 2ms/step - loss: 0.0198\n",
      "Epoch 68/100\n",
      "90/90 [==============================] - 0s 2ms/step - loss: 0.0195\n",
      "Epoch 69/100\n",
      "90/90 [==============================] - 0s 2ms/step - loss: 0.0192\n",
      "Epoch 70/100\n",
      "90/90 [==============================] - 0s 2ms/step - loss: 0.0188\n",
      "Epoch 71/100\n",
      "90/90 [==============================] - 0s 2ms/step - loss: 0.0185\n",
      "Epoch 72/100\n",
      "90/90 [==============================] - 0s 2ms/step - loss: 0.0181\n",
      "Epoch 73/100\n",
      "90/90 [==============================] - 0s 2ms/step - loss: 0.0177\n",
      "Epoch 74/100\n",
      "90/90 [==============================] - 0s 2ms/step - loss: 0.0172\n",
      "Epoch 75/100\n",
      "90/90 [==============================] - 0s 2ms/step - loss: 0.0168\n",
      "Epoch 76/100\n",
      "90/90 [==============================] - 0s 2ms/step - loss: 0.0163\n",
      "Epoch 77/100\n",
      "90/90 [==============================] - 0s 2ms/step - loss: 0.0158\n",
      "Epoch 78/100\n",
      "90/90 [==============================] - 0s 2ms/step - loss: 0.0153\n",
      "Epoch 79/100\n",
      "90/90 [==============================] - 0s 2ms/step - loss: 0.0148\n",
      "Epoch 80/100\n",
      "90/90 [==============================] - 0s 2ms/step - loss: 0.0142\n",
      "Epoch 81/100\n",
      "90/90 [==============================] - 0s 2ms/step - loss: 0.0137\n",
      "Epoch 82/100\n",
      "90/90 [==============================] - 0s 2ms/step - loss: 0.0132\n",
      "Epoch 83/100\n",
      "90/90 [==============================] - 0s 2ms/step - loss: 0.0127\n",
      "Epoch 84/100\n",
      "90/90 [==============================] - 0s 2ms/step - loss: 0.0122\n",
      "Epoch 85/100\n",
      "90/90 [==============================] - 0s 1ms/step - loss: 0.0117\n",
      "Epoch 86/100\n",
      "90/90 [==============================] - 0s 2ms/step - loss: 0.0112\n",
      "Epoch 87/100\n",
      "90/90 [==============================] - 0s 2ms/step - loss: 0.0108\n",
      "Epoch 88/100\n",
      "90/90 [==============================] - 0s 2ms/step - loss: 0.0104\n",
      "Epoch 89/100\n",
      "90/90 [==============================] - 0s 1ms/step - loss: 0.0101\n",
      "Epoch 90/100\n",
      "90/90 [==============================] - 0s 2ms/step - loss: 0.0098\n",
      "Epoch 91/100\n",
      "90/90 [==============================] - 0s 2ms/step - loss: 0.0095\n",
      "Epoch 92/100\n",
      "90/90 [==============================] - 0s 2ms/step - loss: 0.0093\n",
      "Epoch 93/100\n",
      "90/90 [==============================] - 0s 2ms/step - loss: 0.0092\n",
      "Epoch 94/100\n",
      "90/90 [==============================] - 0s 2ms/step - loss: 0.0090\n",
      "Epoch 95/100\n",
      "90/90 [==============================] - 0s 2ms/step - loss: 0.0089\n",
      "Epoch 96/100\n",
      "90/90 [==============================] - 0s 2ms/step - loss: 0.0089\n",
      "Epoch 97/100\n",
      "90/90 [==============================] - 0s 2ms/step - loss: 0.0088\n",
      "Epoch 98/100\n",
      "90/90 [==============================] - 0s 2ms/step - loss: 0.0087\n",
      "Epoch 99/100\n",
      "90/90 [==============================] - 0s 2ms/step - loss: 0.0087\n",
      "Epoch 100/100\n",
      "90/90 [==============================] - 0s 2ms/step - loss: 0.0086\n"
     ]
    },
    {
     "data": {
      "text/plain": [
       "<keras.callbacks.History at 0x1cda2f12650>"
      ]
     },
     "execution_count": 15,
     "metadata": {},
     "output_type": "execute_result"
    }
   ],
   "source": [
    "model.fit(X_train,y_train,batch_size=20,epochs=100)"
   ]
  },
  {
   "cell_type": "code",
   "execution_count": 16,
   "id": "d2f4842c",
   "metadata": {
    "scrolled": true
   },
   "outputs": [
    {
     "data": {
      "text/plain": [
       "array([[48],\n",
       "       [45],\n",
       "       [44],\n",
       "       [45],\n",
       "       [44],\n",
       "       [45],\n",
       "       [46],\n",
       "       [47],\n",
       "       [47],\n",
       "       [45],\n",
       "       [46],\n",
       "       [47],\n",
       "       [49],\n",
       "       [51],\n",
       "       [43],\n",
       "       [42],\n",
       "       [48],\n",
       "       [50],\n",
       "       [47],\n",
       "       [47],\n",
       "       [44],\n",
       "       [42],\n",
       "       [40],\n",
       "       [39],\n",
       "       [40],\n",
       "       [42],\n",
       "       [46]])"
      ]
     },
     "execution_count": 16,
     "metadata": {},
     "output_type": "execute_result"
    }
   ],
   "source": [
    "real_avg_temp=df.iloc[1794:,2:3].values\n",
    "real_avg_temp"
   ]
  },
  {
   "cell_type": "code",
   "execution_count": 17,
   "id": "2a375bb6",
   "metadata": {},
   "outputs": [
    {
     "data": {
      "text/plain": [
       "array([[0.75      ],\n",
       "       [0.5       ],\n",
       "       [0.41666667],\n",
       "       [0.5       ],\n",
       "       [0.41666667],\n",
       "       [0.5       ],\n",
       "       [0.58333333],\n",
       "       [0.66666667],\n",
       "       [0.66666667],\n",
       "       [0.5       ],\n",
       "       [0.58333333],\n",
       "       [0.66666667],\n",
       "       [0.83333333],\n",
       "       [1.        ],\n",
       "       [0.33333333],\n",
       "       [0.25      ],\n",
       "       [0.75      ],\n",
       "       [0.91666667],\n",
       "       [0.66666667],\n",
       "       [0.66666667],\n",
       "       [0.41666667],\n",
       "       [0.25      ],\n",
       "       [0.08333333],\n",
       "       [0.        ],\n",
       "       [0.08333333],\n",
       "       [0.25      ],\n",
       "       [0.58333333]])"
      ]
     },
     "execution_count": 17,
     "metadata": {},
     "output_type": "execute_result"
    }
   ],
   "source": [
    "inputs=scaler.fit_transform(real_avg_temp)\n",
    "inputs"
   ]
  },
  {
   "cell_type": "code",
   "execution_count": 18,
   "id": "a12332a7",
   "metadata": {},
   "outputs": [
    {
     "data": {
      "text/plain": [
       "27"
      ]
     },
     "execution_count": 18,
     "metadata": {},
     "output_type": "execute_result"
    }
   ],
   "source": [
    "len(inputs)"
   ]
  },
  {
   "cell_type": "code",
   "execution_count": 19,
   "id": "2bed6b72",
   "metadata": {},
   "outputs": [
    {
     "data": {
      "text/plain": [
       "array([[[0.75      ]],\n",
       "\n",
       "       [[0.5       ]],\n",
       "\n",
       "       [[0.41666667]],\n",
       "\n",
       "       [[0.5       ]],\n",
       "\n",
       "       [[0.41666667]],\n",
       "\n",
       "       [[0.5       ]],\n",
       "\n",
       "       [[0.58333333]],\n",
       "\n",
       "       [[0.66666667]],\n",
       "\n",
       "       [[0.66666667]],\n",
       "\n",
       "       [[0.5       ]],\n",
       "\n",
       "       [[0.58333333]],\n",
       "\n",
       "       [[0.66666667]],\n",
       "\n",
       "       [[0.83333333]],\n",
       "\n",
       "       [[1.        ]],\n",
       "\n",
       "       [[0.33333333]],\n",
       "\n",
       "       [[0.25      ]],\n",
       "\n",
       "       [[0.75      ]],\n",
       "\n",
       "       [[0.91666667]],\n",
       "\n",
       "       [[0.66666667]],\n",
       "\n",
       "       [[0.66666667]],\n",
       "\n",
       "       [[0.41666667]],\n",
       "\n",
       "       [[0.25      ]],\n",
       "\n",
       "       [[0.08333333]],\n",
       "\n",
       "       [[0.        ]],\n",
       "\n",
       "       [[0.08333333]],\n",
       "\n",
       "       [[0.25      ]],\n",
       "\n",
       "       [[0.58333333]]])"
      ]
     },
     "execution_count": 19,
     "metadata": {},
     "output_type": "execute_result"
    }
   ],
   "source": [
    "np.reshape(inputs,(27,1,1))"
   ]
  },
  {
   "cell_type": "code",
   "execution_count": 20,
   "id": "d271a4b7",
   "metadata": {},
   "outputs": [
    {
     "name": "stdout",
     "output_type": "stream",
     "text": [
      "1/1 [==============================] - 0s 174ms/step\n"
     ]
    },
    {
     "data": {
      "text/plain": [
       "array([[0.7169938 ],\n",
       "       [0.5346627 ],\n",
       "       [0.4649942 ],\n",
       "       [0.5346627 ],\n",
       "       [0.4649942 ],\n",
       "       [0.5346627 ],\n",
       "       [0.60010695],\n",
       "       [0.6609521 ],\n",
       "       [0.6609521 ],\n",
       "       [0.5346627 ],\n",
       "       [0.60010695],\n",
       "       [0.6609521 ],\n",
       "       [0.76818264],\n",
       "       [0.8564246 ],\n",
       "       [0.39165288],\n",
       "       [0.3153575 ],\n",
       "       [0.7169938 ],\n",
       "       [0.8145988 ],\n",
       "       [0.6609521 ],\n",
       "       [0.6609521 ],\n",
       "       [0.4649942 ],\n",
       "       [0.3153575 ],\n",
       "       [0.15745407],\n",
       "       [0.07782871],\n",
       "       [0.15745407],\n",
       "       [0.3153575 ],\n",
       "       [0.60010695]], dtype=float32)"
      ]
     },
     "execution_count": 20,
     "metadata": {},
     "output_type": "execute_result"
    }
   ],
   "source": [
    "Pred_temp=model.predict(inputs)\n",
    "Pred_temp"
   ]
  },
  {
   "cell_type": "code",
   "execution_count": 21,
   "id": "4ee255e5",
   "metadata": {},
   "outputs": [
    {
     "data": {
      "text/plain": [
       "array([[47.603928],\n",
       "       [45.415955],\n",
       "       [44.57993 ],\n",
       "       [45.415955],\n",
       "       [44.57993 ],\n",
       "       [45.415955],\n",
       "       [46.201283],\n",
       "       [46.931427],\n",
       "       [46.931427],\n",
       "       [45.415955],\n",
       "       [46.201283],\n",
       "       [46.931427],\n",
       "       [48.218193],\n",
       "       [49.2771  ],\n",
       "       [43.699833],\n",
       "       [42.78429 ],\n",
       "       [47.603928],\n",
       "       [48.77519 ],\n",
       "       [46.931427],\n",
       "       [46.931427],\n",
       "       [44.57993 ],\n",
       "       [42.78429 ],\n",
       "       [40.88945 ],\n",
       "       [39.933945],\n",
       "       [40.88945 ],\n",
       "       [42.78429 ],\n",
       "       [46.201283]], dtype=float32)"
      ]
     },
     "execution_count": 21,
     "metadata": {},
     "output_type": "execute_result"
    }
   ],
   "source": [
    "Pred_avg_temp=scaler.inverse_transform(Pred_temp)\n",
    "Pred_avg_temp"
   ]
  },
  {
   "cell_type": "code",
   "execution_count": 22,
   "id": "6974f89c",
   "metadata": {},
   "outputs": [
    {
     "data": {
      "image/png": "[encoded data removed]",
      "text/plain": [
       "<Figure size 432x288 with 1 Axes>"
      ]
     },
     "metadata": {
      "needs_background": "light"
     },
     "output_type": "display_data"
    }
   ],
   "source": [
    "plt.plot(real_avg_temp,color='red',label='Real Average Temperature')\n",
    "plt.plot(Pred_avg_temp,color='blue',label='Predicted Average Temperature')\n",
    "plt.xlabel('Date')\n",
    "plt.ylabel('Average Temperature')\n",
    "plt.show()"
   ]
  },
  {
   "cell_type": "code",
   "execution_count": 24,
   "id": "fe5d66cc",
   "metadata": {},
   "outputs": [
    {
     "name": "stdout",
     "output_type": "stream",
     "text": [
      "0.6674771657084253\n"
     ]
    }
   ],
   "source": [
    "from sklearn.metrics import mean_squared_error\n",
    "from math import sqrt\n",
    "rmse=sqrt(mean_squared_error(real_avg_temp,Pred_avg_temp))\n",
    "print(rmse)"
   ]
  },
  {
   "cell_type": "code",
   "execution_count": null,
   "id": "b0aa5fa6",
   "metadata": {},
   "outputs": [],
   "source": [
    "n1=df['AvgTemp'].iloc[[1820]].values\n",
    "n1=np.array(n1).reshape(-1,1)\n",
    "print(\"Predicting Average Temperature for next 30 days:-\\n\")\n",
    "for i in range(30):\n",
    "    n2=scaler.transform(n1)\n",
    "    V=n2.reshape(-1,1,1)\n",
    "    Val=model.predict(V)\n",
    "    final=scaler.inverse_transform(Val)\n",
    "    print(\"Predicted Average Temperature\",final)\n",
    "    n1=final"
   ]
  },
  {
   "cell_type": "code",
   "execution_count": null,
   "id": "9b6fdf31",
   "metadata": {},
   "outputs": [],
   "source": []
  }
 ],
 "metadata": {
  "kernelspec": {
   "display_name": "Python 3 (ipykernel)",
   "language": "python",
   "name": "python3"
  },
  "language_info": {
   "codemirror_mode": {
    "name": "ipython",
    "version": 3
   },
   "file_extension": ".py",
   "mimetype": "text/x-python",
   "name": "python",
   "nbconvert_exporter": "python",
   "pygments_lexer": "ipython3",
   "version": "3.10.1"
  }
 },
 "nbformat": 4,
 "nbformat_minor": 5
}
